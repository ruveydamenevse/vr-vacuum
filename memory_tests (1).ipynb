{
 "cells": [
  {
   "cell_type": "code",
   "execution_count": 1,
   "id": "f58d5c87",
   "metadata": {},
   "outputs": [
    {
     "name": "stdout",
     "output_type": "stream",
     "text": [
      "Requirement already satisfied: opencv-python in c:\\users\\w10\\anaconda3\\lib\\site-packages (4.9.0.80)\n",
      "Requirement already satisfied: numpy>=1.21.2 in c:\\users\\w10\\anaconda3\\lib\\site-packages (from opencv-python) (1.24.3)\n"
     ]
    }
   ],
   "source": [
    "import numpy as np\n",
    "!pip install opencv-python\n",
    "import cv2 #OPEN CV\n",
    "from matplotlib import pyplot as plt #to show the images"
   ]
  },
  {
   "cell_type": "code",
   "execution_count": 2,
   "id": "4ee4e75d",
   "metadata": {},
   "outputs": [
    {
     "name": "stdout",
     "output_type": "stream",
     "text": [
      "Requirement already satisfied: opencv-python in c:\\users\\w10\\anaconda3\\lib\\site-packages (4.9.0.80)\n",
      "Requirement already satisfied: numpy>=1.21.2 in c:\\users\\w10\\anaconda3\\lib\\site-packages (from opencv-python) (1.24.3)\n"
     ]
    }
   ],
   "source": [
    "%run functions.ipynb  #load the functions process_img and getContours"
   ]
  },
  {
   "cell_type": "code",
   "execution_count": 3,
   "id": "c2c80b64",
   "metadata": {},
   "outputs": [],
   "source": [
    "buffer_size= 10\n",
    "frame_buffer = [] #initialize buffer"
   ]
  },
  {
   "cell_type": "code",
   "execution_count": 4,
   "id": "1f0ef5dd",
   "metadata": {},
   "outputs": [],
   "source": [
    "def update_buffer(frame):\n",
    "    if len(frame_buffer) == buffer_size: #if all buffers are full\n",
    "        frame_buffer.pop(0) #delete first one \n",
    "    frame_buffer.append(frame.copy()) #add another frame"
   ]
  },
  {
   "cell_type": "code",
   "execution_count": 5,
   "id": "e46fb617",
   "metadata": {},
   "outputs": [],
   "source": [
    "def process_frame(frame):\n",
    "    \n",
    "    gray = cv2.cvtColor(frame, cv2.COLOR_BGR2GRAY)    \n",
    "    # Perform background subtraction or frame differencing\n",
    "    if len(frame_buffer) > 0:\n",
    "        previous_frame = frame_buffer[-1]\n",
    "        \n",
    "        previous_gray = cv2.cvtColor(previous_frame, cv2.COLOR_BGR2GRAY)\n",
    "        diff = cv2.absdiff(gray, previous_gray)\n",
    "        _, mask = cv2.threshold(diff, 30, 255, cv2.THRESH_BINARY)\n",
    "    else:\n",
    "        mask = np.zeros_like(gray)\n",
    "    \n",
    "    # Apply the mask to color the floor\n",
    "    processed_frame = getContours(frame)  # Call your function    \n",
    "    return processed_frame"
   ]
  },
  {
   "cell_type": "code",
   "execution_count": 6,
   "id": "583980c1",
   "metadata": {},
   "outputs": [],
   "source": [
    "def main():\n",
    "    cap = cv2.VideoCapture(0)  # Replace 0 with your camera index or video file\n",
    "    \n",
    "    while True:\n",
    "        ret, frame = cap.read()\n",
    "        if not ret:\n",
    "            break\n",
    "        \n",
    "        # Update memory buffer\n",
    "        update_buffer(frame)\n",
    "        \n",
    "        # Process current frame\n",
    "        processed_frame = process_frame(frame)\n",
    "        \n",
    "        # Display the processed frame\n",
    "        cv2.imshow('Processed Frame', processed_frame)\n",
    "        \n",
    "        # Check for exit key\n",
    "        if cv2.waitKey(1) & 0xFF == ord('q'):\n",
    "            break\n",
    "    \n",
    "    cap.release()\n",
    "    cv2.destroyAllWindows()"
   ]
  },
  {
   "cell_type": "code",
   "execution_count": 7,
   "id": "07b6c109",
   "metadata": {},
   "outputs": [],
   "source": [
    "#main()"
   ]
  },
  {
   "cell_type": "code",
   "execution_count": null,
   "id": "7c7a5f94",
   "metadata": {},
   "outputs": [],
   "source": []
  }
 ],
 "metadata": {
  "kernelspec": {
   "display_name": "Python 3 (ipykernel)",
   "language": "python",
   "name": "python3"
  },
  "language_info": {
   "codemirror_mode": {
    "name": "ipython",
    "version": 3
   },
   "file_extension": ".py",
   "mimetype": "text/x-python",
   "name": "python",
   "nbconvert_exporter": "python",
   "pygments_lexer": "ipython3",
   "version": "3.11.5"
  }
 },
 "nbformat": 4,
 "nbformat_minor": 5
}
