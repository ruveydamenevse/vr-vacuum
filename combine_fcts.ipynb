{
 "cells": [
  {
   "cell_type": "code",
   "execution_count": 1,
   "id": "9c97c6c4",
   "metadata": {},
   "outputs": [
    {
     "name": "stdout",
     "output_type": "stream",
     "text": [
      "Requirement already satisfied: opencv-python in c:\\users\\w10\\anaconda3\\lib\\site-packages (4.9.0.80)\n",
      "Requirement already satisfied: numpy>=1.21.2 in c:\\users\\w10\\anaconda3\\lib\\site-packages (from opencv-python) (1.24.3)\n"
     ]
    }
   ],
   "source": [
    "%run functions.ipynb"
   ]
  },
  {
   "cell_type": "code",
   "execution_count": 2,
   "id": "ff05ba83",
   "metadata": {},
   "outputs": [],
   "source": [
    "%run matching_fct.ipynb"
   ]
  },
  {
   "cell_type": "code",
   "execution_count": 3,
   "id": "e5895e70",
   "metadata": {},
   "outputs": [],
   "source": [
    "img= cv2.imread(\"dene.png\")"
   ]
  },
  {
   "cell_type": "code",
   "execution_count": 4,
   "id": "bf9c55c2",
   "metadata": {},
   "outputs": [],
   "source": [
    "template= cv2.imread(\"ref.png\")"
   ]
  },
  {
   "cell_type": "code",
   "execution_count": 21,
   "id": "f8c5b465",
   "metadata": {},
   "outputs": [],
   "source": [
    "def CombineFloorVacuum (img, template):   \n",
    "    x,y = match_template(img, template)\n",
    "    img = paintFloor(img)\n",
    "    \n",
    "    # Resize the window\n",
    "    cv2.namedWindow('result', cv2.WINDOW_NORMAL)\n",
    "    cv2.resizeWindow('result', 600, 800) \n",
    "    cv2.rectangle(img, x, y, 255, 5) #draw vacuum\n",
    "    cv2.imshow(\"result\", img)\n",
    "    cv2.waitKey(0)"
   ]
  },
  {
   "cell_type": "code",
   "execution_count": 22,
   "id": "4c299e8d",
   "metadata": {},
   "outputs": [],
   "source": [
    "CombineFloorVacuum (img, template)"
   ]
  },
  {
   "cell_type": "code",
   "execution_count": null,
   "id": "fafc5884",
   "metadata": {},
   "outputs": [],
   "source": []
  }
 ],
 "metadata": {
  "kernelspec": {
   "display_name": "Python 3 (ipykernel)",
   "language": "python",
   "name": "python3"
  },
  "language_info": {
   "codemirror_mode": {
    "name": "ipython",
    "version": 3
   },
   "file_extension": ".py",
   "mimetype": "text/x-python",
   "name": "python",
   "nbconvert_exporter": "python",
   "pygments_lexer": "ipython3",
   "version": "3.11.5"
  }
 },
 "nbformat": 4,
 "nbformat_minor": 5
}
