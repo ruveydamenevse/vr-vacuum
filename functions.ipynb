{
 "cells": [
  {
   "cell_type": "code",
   "execution_count": 1,
   "id": "8853e720",
   "metadata": {},
   "outputs": [
    {
     "name": "stdout",
     "output_type": "stream",
     "text": [
      "Requirement already satisfied: opencv-python in c:\\users\\w10\\anaconda3\\lib\\site-packages (4.9.0.80)\n",
      "Requirement already satisfied: numpy>=1.21.2 in c:\\users\\w10\\anaconda3\\lib\\site-packages (from opencv-python) (1.24.3)\n"
     ]
    }
   ],
   "source": [
    "import numpy as np\n",
    "!pip install opencv-python\n",
    "import cv2 #OPEN CV\n",
    "from matplotlib import pyplot as plt #to show the images"
   ]
  },
  {
   "cell_type": "code",
   "execution_count": 10,
   "id": "6f60daff",
   "metadata": {},
   "outputs": [],
   "source": [
    "def process_img(image): #basically tuning the parameters before getting the contours  \n",
    "    image = cv2.fastNlMeansDenoisingColored(image,None,18,18,11,35) #denoising\n",
    "    Gray = cv2.cvtColor(image, cv2.COLOR_BGR2GRAY) # turn gray   \n",
    "    Blur = cv2.GaussianBlur(Gray,(7,7),1)\n",
    "    Canny = cv2.Canny(Blur,150,150) \n",
    "    kernel = np.ones((3,3) , np.uint8)\n",
    "    imgDial = cv2.dilate(Canny, kernel,iterations=5)\n",
    "    return imgDial"
   ]
  },
  {
   "cell_type": "code",
   "execution_count": 11,
   "id": "1e3cd39d",
   "metadata": {},
   "outputs": [],
   "source": [
    "def getContours(img):\n",
    "\n",
    "    img_processed = process_img(img)\n",
    "    contours, hierarchy = cv2.findContours(img_processed,cv2.RETR_EXTERNAL,cv2.CHAIN_APPROX_NONE)\n",
    "    \n",
    "    # Create a mask for the convex hull\n",
    "    mask = np.zeros_like(img)  \n",
    "    result = img.copy() #we will work on result as to not alter original img\n",
    "    \n",
    "    #detect contour\n",
    "    for i in contours: #look through contours\n",
    "        area = cv2.contourArea(i) # get Area\n",
    "        \n",
    "        if area>800: #area threshold\n",
    "            cv2.drawContours(result,[i],-1,(0,255,0),2) #draw green contour lines\n",
    "            perimeter = cv2.arcLength(i, True)\n",
    "            corner_pts_approx = cv2.approxPolyDP(i, 0.02*perimeter, True)\n",
    "            objCor = len(corner_pts_approx)\n",
    "            hull = cv2.convexHull(corner_pts_approx) #find the convex hull\n",
    "            \n",
    "            #fill the area below the convex hull\n",
    "            cv2.fillConvexPoly(mask, hull, (255, 0, 0))\n",
    "            \n",
    "            weighted_clr =0.7 #value between 0 and 1 (can be tuned)\n",
    "            \n",
    "            #apply the mask\n",
    "            filled = cv2.bitwise_and(result, mask)\n",
    "            result = cv2.addWeighted(result, 1, filled, weighted_clr, 0)\n",
    "            \n",
    "            #the bounding box of the convex hull\n",
    "            x, y, w, h = cv2.boundingRect(hull)\n",
    "            \n",
    "            filled_area = np.zeros_like(img)\n",
    "            filled_area[y+h:, x:x+w] = (255, 0, 0)  #fill the box are below contour\n",
    "            result = cv2.addWeighted(result, 1, filled_area, 0.3, 0)\n",
    "            \n",
    "    return result\n"
   ]
  },
  {
   "cell_type": "code",
   "execution_count": 12,
   "id": "0777eed5",
   "metadata": {},
   "outputs": [],
   "source": [
    "f1 = cv2.imread(r\"C:\\Users\\w10\\Desktop\\floor2.jpg\")"
   ]
  },
  {
   "cell_type": "code",
   "execution_count": 13,
   "id": "c299adcf",
   "metadata": {},
   "outputs": [],
   "source": [
    "c= getContours(f1)"
   ]
  },
  {
   "cell_type": "code",
   "execution_count": 6,
   "id": "3a83ba85",
   "metadata": {},
   "outputs": [],
   "source": [
    "#cv2.imshow(\"Result\", c)\n",
    "#cv2.waitKey(0)"
   ]
  },
  {
   "cell_type": "code",
   "execution_count": 7,
   "id": "5eeef310",
   "metadata": {},
   "outputs": [],
   "source": [
    "#plt.imshow(c)"
   ]
  },
  {
   "cell_type": "code",
   "execution_count": null,
   "id": "0f09288a",
   "metadata": {},
   "outputs": [],
   "source": []
  }
 ],
 "metadata": {
  "kernelspec": {
   "display_name": "Python 3 (ipykernel)",
   "language": "python",
   "name": "python3"
  },
  "language_info": {
   "codemirror_mode": {
    "name": "ipython",
    "version": 3
   },
   "file_extension": ".py",
   "mimetype": "text/x-python",
   "name": "python",
   "nbconvert_exporter": "python",
   "pygments_lexer": "ipython3",
   "version": "3.11.5"
  }
 },
 "nbformat": 4,
 "nbformat_minor": 5
}
