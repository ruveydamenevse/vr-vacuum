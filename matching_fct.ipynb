{
 "cells": [
  {
   "cell_type": "code",
   "execution_count": 1,
   "id": "66890752",
   "metadata": {},
   "outputs": [],
   "source": [
    "import numpy as np\n",
    "import cv2 as cv2"
   ]
  },
  {
   "cell_type": "code",
   "execution_count": 2,
   "id": "88bd01ae",
   "metadata": {},
   "outputs": [],
   "source": [
    "def calculate_similarity(template, image, method, match_location, template_size):\n",
    "    h, w = template_size\n",
    "    x, y = match_location\n",
    "    matched_region = image[y:y+h, x:x+w]\n",
    "    if method in [cv2.TM_CCOEFF_NORMED, cv2.TM_CCORR_NORMED]:\n",
    "        similarity = cv2.matchTemplate(matched_region, template, method)[0][0]\n",
    "    else:\n",
    "        result = cv2.matchTemplate(matched_region, template, cv2.TM_CCORR_NORMED)\n",
    "        min_val, max_val, min_loc, max_loc = cv2.minMaxLoc(result)\n",
    "        similarity = max_val\n",
    "    return similarity"
   ]
  },
  {
   "cell_type": "code",
   "execution_count": 4,
   "id": "de40dcb2",
   "metadata": {},
   "outputs": [],
   "source": [
    "def match_template(img, template):\n",
    "        methods = [cv2.TM_CCOEFF, cv2.TM_CCOEFF_NORMED, cv2.TM_CCORR,\n",
    "           cv2.TM_CCORR_NORMED, cv2.TM_SQDIFF, cv2.TM_SQDIFF_NORMED] #methods we will use\n",
    "        \n",
    "        img = cv2.cvtColor(img, cv2.COLOR_BGR2GRAY) # turn gray \n",
    "        template = cv2.cvtColor(template, cv2.COLOR_BGR2GRAY) \n",
    "        \n",
    "        img_height, img_width = img.shape[:2] # get shapes and find scale factor\n",
    "        template_height, template_width = template.shape[:2]\n",
    "        width_ratio = template_width / img_width \n",
    "        height_ratio = template_height / img_height\n",
    "        \n",
    "        scale_factor = max(width_ratio, height_ratio) #find scaling factor\n",
    "        if scale_factor > 1:\n",
    "            scale_factor = 1 / scale_factor  # Şablon büyükse, küçült\n",
    "        else:\n",
    "            scale_factor = 1  # Şablon zaten uygun boyuttaysa, değiştirme\n",
    "        \n",
    "        resized_template = cv2.resize(template, (0, 0), fx=scale_factor, fy=scale_factor) #resize template according to scale\n",
    "        resized_h, resized_w = resized_template.shape[:2]   \n",
    "        \n",
    "        for method in methods:\n",
    "            best_similarity = 0\n",
    "            best_location = (0, 0)\n",
    "            best_scale = 1\n",
    "            best_resized_h = 0\n",
    "            best_resized_w = 0\n",
    "            result = cv2.matchTemplate(img, resized_template, method)\n",
    "            min_val, max_val, min_loc, max_loc = cv2.minMaxLoc(result)\n",
    "            if method in [cv2.TM_SQDIFF, cv2.TM_SQDIFF_NORMED]:\n",
    "                location = min_loc\n",
    "            else:\n",
    "                location = max_loc\n",
    "            similarity = calculate_similarity(resized_template, img, method, location, (resized_h, resized_w))\n",
    "            if similarity > best_similarity:\n",
    "                best_similarity = similarity\n",
    "                best_location = location\n",
    "                best_scale = scale_factor\n",
    "                best_resized_h = resized_h\n",
    "                best_resized_w = resized_w\n",
    "                \n",
    "        bottom_right = (best_location[0] + best_resized_w, best_location[1] + best_resized_h)  \n",
    "        \n",
    "        return best_location, bottom_right"
   ]
  },
  {
   "cell_type": "code",
   "execution_count": 5,
   "id": "23dbb70a",
   "metadata": {},
   "outputs": [],
   "source": [
    "#img= cv2.imread(\"dene.png\")"
   ]
  },
  {
   "cell_type": "code",
   "execution_count": 6,
   "id": "156e60bd",
   "metadata": {},
   "outputs": [],
   "source": [
    "#template= cv2.imread(\"ref.png\")"
   ]
  },
  {
   "cell_type": "code",
   "execution_count": 7,
   "id": "1efb0c73",
   "metadata": {},
   "outputs": [],
   "source": [
    "#x,y = match_template(img, template)"
   ]
  },
  {
   "cell_type": "code",
   "execution_count": 8,
   "id": "3906b0be",
   "metadata": {},
   "outputs": [
    {
     "data": {
      "text/plain": [
       "array([[[ 93,  66,  90],\n",
       "        [ 91,  63,  87],\n",
       "        [ 91,  62,  87],\n",
       "        ...,\n",
       "        [ 66,  39,  55],\n",
       "        [ 65,  39,  54],\n",
       "        [ 59,  33,  48]],\n",
       "\n",
       "       [[ 90,  63,  86],\n",
       "        [ 90,  63,  87],\n",
       "        [ 91,  64,  88],\n",
       "        ...,\n",
       "        [ 69,  42,  58],\n",
       "        [ 66,  38,  54],\n",
       "        [ 60,  33,  48]],\n",
       "\n",
       "       [[ 91,  64,  87],\n",
       "        [ 97,  69,  93],\n",
       "        [ 97,  70,  93],\n",
       "        ...,\n",
       "        [ 68,  41,  57],\n",
       "        [ 66,  40,  55],\n",
       "        [ 65,  37,  52]],\n",
       "\n",
       "       ...,\n",
       "\n",
       "       [[179, 115, 148],\n",
       "        [166, 102, 134],\n",
       "        [153,  89, 121],\n",
       "        ...,\n",
       "        [129, 150, 175],\n",
       "        [116, 137, 163],\n",
       "        [124, 146, 170]],\n",
       "\n",
       "       [[174, 110, 143],\n",
       "        [154,  90, 122],\n",
       "        [152,  88, 119],\n",
       "        ...,\n",
       "        [118, 140, 164],\n",
       "        [114, 136, 161],\n",
       "        [117, 139, 164]],\n",
       "\n",
       "       [[153,  89, 122],\n",
       "        [148,  84, 117],\n",
       "        [173, 109, 142],\n",
       "        ...,\n",
       "        [111, 133, 157],\n",
       "        [118, 140, 165],\n",
       "        [103, 124, 150]]], dtype=uint8)"
      ]
     },
     "execution_count": 8,
     "metadata": {},
     "output_type": "execute_result"
    }
   ],
   "source": [
    "#cv2.rectangle(img, x, y, 255, 5)"
   ]
  },
  {
   "cell_type": "code",
   "execution_count": 9,
   "id": "0abb8ffd",
   "metadata": {},
   "outputs": [
    {
     "data": {
      "text/plain": [
       "-1"
      ]
     },
     "execution_count": 9,
     "metadata": {},
     "output_type": "execute_result"
    }
   ],
   "source": [
    "#cv2.imshow(\"res\", img)\n",
    "#cv2.waitKey(0)\n"
   ]
  },
  {
   "cell_type": "code",
   "execution_count": null,
   "id": "51dfb46a",
   "metadata": {},
   "outputs": [],
   "source": []
  }
 ],
 "metadata": {
  "kernelspec": {
   "display_name": "Python 3 (ipykernel)",
   "language": "python",
   "name": "python3"
  },
  "language_info": {
   "codemirror_mode": {
    "name": "ipython",
    "version": 3
   },
   "file_extension": ".py",
   "mimetype": "text/x-python",
   "name": "python",
   "nbconvert_exporter": "python",
   "pygments_lexer": "ipython3",
   "version": "3.11.5"
  }
 },
 "nbformat": 4,
 "nbformat_minor": 5
}
